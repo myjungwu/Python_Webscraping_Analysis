{
 "cells": [
  {
   "cell_type": "markdown",
   "id": "a6438ec2",
   "metadata": {},
   "source": [
    "### 수집과 분석 \n",
    "* 수집\n",
    "* 분석\n",
    "* ***저장***\n",
    "* ~~머신러닝~~\n",
    "  * alt + enter = cell 실행 + cell 추가\n",
    "  * ctl + enter = cell 실행\n",
    "  * shift + enter = cell 실행 + 커서 아래로 ( 하위 셀이 없다면 추가도 해줌 )\n",
    "* [jupyter equation](https://jupyter-notebook.readthedocs.io/en/stable/examples/Notebook/Typesetting%20Equations.html)  \n",
    "* This site was built using [GitHub Pages](https://pages.github.com/)."
   ]
  },
  {
   "cell_type": "markdown",
   "id": "5360d914",
   "metadata": {},
   "source": [
    "Text that is not a quote\n",
    "\n",
    "> Text that is a quote"
   ]
  },
  {
   "cell_type": "markdown",
   "id": "793e9a50",
   "metadata": {},
   "source": [
    "\\begin{equation*}\n",
    "\\left( \\sum_{k=1}^n a_k b_k \\right)^2 \\leq \\left( \\sum_{k=1}^n a_k^2 \\right) \\left( \\sum_{k=1}^n b_k^2 \\right)\n",
    "\\end{equation*}"
   ]
  },
  {
   "cell_type": "markdown",
   "id": "878ee942",
   "metadata": {},
   "source": [
    "\\begin{gather*}\n",
    "a_1=b_1+c_1\\\\\n",
    "a_2=b_2+c_2-d_2+e_2\n",
    "\\end{gather*}"
   ]
  },
  {
   "cell_type": "markdown",
   "id": "692b61b4",
   "metadata": {},
   "source": [
    "| This | is   |\n",
    "|------|------|\n",
    "|   a  | table|"
   ]
  },
  {
   "cell_type": "code",
   "execution_count": 1,
   "id": "e2307a3b",
   "metadata": {},
   "outputs": [
    {
     "data": {
      "text/plain": [
       "'python 언어'"
      ]
     },
     "execution_count": 1,
     "metadata": {},
     "output_type": "execute_result"
    }
   ],
   "source": [
    "lang = 'python'\n",
    "myStr = '{} 언어'.format(lang)\n",
    "myStr"
   ]
  },
  {
   "cell_type": "code",
   "execution_count": 2,
   "id": "682125f3",
   "metadata": {},
   "outputs": [
    {
     "data": {
      "text/plain": [
       "'python 언어'"
      ]
     },
     "execution_count": 2,
     "metadata": {},
     "output_type": "execute_result"
    }
   ],
   "source": [
    "myStr2 = f'{lang} 언어'\n",
    "myStr2"
   ]
  },
  {
   "cell_type": "code",
   "execution_count": 9,
   "id": "5f76b65d",
   "metadata": {},
   "outputs": [
    {
     "data": {
      "text/plain": [
       "'56,784,949,494'"
      ]
     },
     "execution_count": 9,
     "metadata": {},
     "output_type": "execute_result"
    }
   ],
   "source": [
    "val = 56784949494\n",
    "format_val = f'{val:,}'\n",
    "format_val"
   ]
  },
  {
   "cell_type": "code",
   "execution_count": 10,
   "id": "96c5339d",
   "metadata": {},
   "outputs": [
    {
     "data": {
      "text/plain": [
       "'56784949494.00'"
      ]
     },
     "execution_count": 10,
     "metadata": {},
     "output_type": "execute_result"
    }
   ],
   "source": [
    "format_val = f'{val:.2f}'\n",
    "format_val"
   ]
  },
  {
   "cell_type": "code",
   "execution_count": 3,
   "id": "9cfb9d4f-80f6-4f24-b37c-02b66095dcb1",
   "metadata": {},
   "outputs": [
    {
     "name": "stdout",
     "output_type": "stream",
     "text": [
      "name 파이썬\n",
      "addr 서울\n",
      "name 파이썬\n",
      "addr 서울\n"
     ]
    }
   ],
   "source": [
    "## dict 연습\n",
    "my_dict = {\n",
    "    'name': '파이썬'\n",
    "}\n",
    "my_dict['addr'] = '서울'\n",
    "for k in my_dict.keys():\n",
    "    print(k,my_dict[k])\n",
    "    \n",
    "for k,v in my_dict.items():\n",
    "    print(k, v)"
   ]
  },
  {
   "cell_type": "code",
   "execution_count": 4,
   "id": "46957cd1-93a0-42c0-9789-0f979804b6d3",
   "metadata": {},
   "outputs": [],
   "source": [
    "# 함수에서 tuple을 반환\n",
    "def swap(a,b):\n",
    "    return (b,a)"
   ]
  },
  {
   "cell_type": "code",
   "execution_count": 5,
   "id": "6afbf7c1-2789-4edf-8a0e-dfaa1e37220f",
   "metadata": {},
   "outputs": [
    {
     "name": "stdout",
     "output_type": "stream",
     "text": [
      "20\n",
      "10\n"
     ]
    }
   ],
   "source": [
    "(n1,n2) = swap(10,20)\n",
    "print(n1)\n",
    "print(n2)"
   ]
  },
  {
   "cell_type": "markdown",
   "id": "dce6b6f1",
   "metadata": {},
   "source": [
    "### List Comprehension\n",
    "* [Code Style](https://docs.python-guide.org/writing/style/)\n",
    "* [Pythonic Code](https://nunenuh.medium.com/how-to-write-pythonic-code-e19b1562fd5)"
   ]
  },
  {
   "cell_type": "code",
   "execution_count": 1,
   "id": "d8cccaa3",
   "metadata": {},
   "outputs": [
    {
     "name": "stdout",
     "output_type": "stream",
     "text": [
      "[0, 4, 16, 36, 64]\n"
     ]
    }
   ],
   "source": [
    "squares = []\n",
    "for i in range(10): #0~9\n",
    "    if i % 2 == 0:\n",
    "        squares.append(i * i)\n",
    "\n",
    "print(squares)        "
   ]
  },
  {
   "cell_type": "code",
   "execution_count": 2,
   "id": "4d3f2a7e",
   "metadata": {},
   "outputs": [
    {
     "data": {
      "text/plain": [
       "[0, 4, 16, 36, 64]"
      ]
     },
     "execution_count": 2,
     "metadata": {},
     "output_type": "execute_result"
    }
   ],
   "source": [
    "# list comprehension\n",
    "\n",
    "squares2 = [i*i for i in range(10) if i % 2 == 0]\n",
    "squares2"
   ]
  },
  {
   "cell_type": "code",
   "execution_count": 8,
   "id": "ff0e36be",
   "metadata": {},
   "outputs": [
    {
     "data": {
      "text/plain": [
       "['H', 'e', 'l', 'l', 'o']"
      ]
     },
     "execution_count": 8,
     "metadata": {},
     "output_type": "execute_result"
    }
   ],
   "source": [
    "'H e l l o'.split(' ')"
   ]
  },
  {
   "cell_type": "code",
   "execution_count": 9,
   "id": "6977bc66",
   "metadata": {},
   "outputs": [],
   "source": [
    "def get_text_list():\n",
    "    lists = []\n",
    "    with open('data/yesterday.txt', 'r',encoding=\"utf8\") as file:\n",
    "        contents = file.read()\n",
    "        lists = contents.split(\"\\n\")\n",
    "\n",
    "    return lists"
   ]
  },
  {
   "cell_type": "code",
   "execution_count": 12,
   "id": "ba15038b",
   "metadata": {},
   "outputs": [
    {
     "name": "stdout",
     "output_type": "stream",
     "text": [
      "23\n",
      "17\n"
     ]
    }
   ],
   "source": [
    "lyric_list = get_text_list()\n",
    "print(len(lyric_list))\n",
    "lyric_list2 = [lyric for lyric in lyric_list if len(lyric) != 0]\n",
    "print(len(lyric_list2))"
   ]
  },
  {
   "cell_type": "code",
   "execution_count": 10,
   "id": "fc5df524",
   "metadata": {},
   "outputs": [
    {
     "data": {
      "text/plain": [
       "['a', 'b']"
      ]
     },
     "execution_count": 10,
     "metadata": {},
     "output_type": "execute_result"
    }
   ],
   "source": [
    "my_list = ['a','b','c']\n",
    "my_list[0:2]"
   ]
  },
  {
   "cell_type": "code",
   "execution_count": 13,
   "id": "5d00901e",
   "metadata": {},
   "outputs": [
    {
     "data": {
      "text/plain": [
       "['c']"
      ]
     },
     "execution_count": 13,
     "metadata": {},
     "output_type": "execute_result"
    }
   ],
   "source": [
    "my_list[2:]"
   ]
  },
  {
   "cell_type": "code",
   "execution_count": 14,
   "id": "16656594",
   "metadata": {},
   "outputs": [
    {
     "data": {
      "text/plain": [
       "['a', 'b']"
      ]
     },
     "execution_count": 14,
     "metadata": {},
     "output_type": "execute_result"
    }
   ],
   "source": [
    "my_list[:2]"
   ]
  },
  {
   "cell_type": "code",
   "execution_count": 16,
   "id": "1d1e80c4",
   "metadata": {},
   "outputs": [
    {
     "name": "stdout",
     "output_type": "stream",
     "text": [
      "[0, 1, 2, 3, 4, 5, 6, 7, 8, 9]\n",
      "0\n",
      "1\n",
      "2\n",
      "3\n",
      "4\n",
      "5\n",
      "6\n",
      "7\n",
      "8\n",
      "9\n"
     ]
    }
   ],
   "source": [
    "# range() 와 numpy의 arange() 함수 비교\n",
    "print(list(range(10)))\n",
    "for data in range(10):\n",
    "    print(data)"
   ]
  },
  {
   "cell_type": "code",
   "execution_count": 20,
   "id": "5205afb0",
   "metadata": {},
   "outputs": [
    {
     "data": {
      "text/plain": [
       "array([ 1,  2,  3,  4,  5,  6,  7,  8,  9, 10])"
      ]
     },
     "execution_count": 20,
     "metadata": {},
     "output_type": "execute_result"
    }
   ],
   "source": [
    "import numpy as np\n",
    "\n",
    "np.arange(1,11)"
   ]
  },
  {
   "cell_type": "code",
   "execution_count": 21,
   "id": "b8c85970",
   "metadata": {},
   "outputs": [],
   "source": [
    "#lambda x, loc: \"{:,}\".format(int(x)\n",
    "def my_format(val):\n",
    "    return \"{:,}\".format(int(val))"
   ]
  },
  {
   "cell_type": "code",
   "execution_count": 22,
   "id": "35f03be4",
   "metadata": {},
   "outputs": [
    {
     "data": {
      "text/plain": [
       "'1,028,326,272,727'"
      ]
     },
     "execution_count": 22,
     "metadata": {},
     "output_type": "execute_result"
    }
   ],
   "source": [
    "my_format(\"1028326272727\")"
   ]
  },
  {
   "cell_type": "code",
   "execution_count": 23,
   "id": "56ebbd8c",
   "metadata": {},
   "outputs": [],
   "source": [
    "result = lambda val:\"{:,}\".format(int(val))"
   ]
  },
  {
   "cell_type": "code",
   "execution_count": 24,
   "id": "84b94085",
   "metadata": {},
   "outputs": [
    {
     "data": {
      "text/plain": [
       "'38,383,823,823,940'"
      ]
     },
     "execution_count": 24,
     "metadata": {},
     "output_type": "execute_result"
    }
   ],
   "source": [
    "result(\"38383823823940\")"
   ]
  },
  {
   "cell_type": "code",
   "execution_count": 1,
   "id": "5d2ad19e",
   "metadata": {},
   "outputs": [
    {
     "name": "stdout",
     "output_type": "stream",
     "text": [
      "('이름', '파이썬')\n",
      "('취미', '독서')\n",
      "('나이', '20')\n"
     ]
    }
   ],
   "source": [
    "dt_list=['이름','취미','나이']\n",
    "dd_list=['파이썬','독서','20']\n",
    "for data in zip(dt_list,dd_list):\n",
    "    print(data)"
   ]
  },
  {
   "cell_type": "code",
   "execution_count": 2,
   "id": "bde57ceb",
   "metadata": {},
   "outputs": [
    {
     "data": {
      "text/plain": [
       "{'이름': '파이썬', '취미': '독서', '나이': '20'}"
      ]
     },
     "execution_count": 2,
     "metadata": {},
     "output_type": "execute_result"
    }
   ],
   "source": [
    "dict(zip(dt_list,dd_list))"
   ]
  },
  {
   "cell_type": "code",
   "execution_count": 34,
   "id": "9a62c35a",
   "metadata": {},
   "outputs": [
    {
     "data": {
      "text/plain": [
       "False"
      ]
     },
     "execution_count": 34,
     "metadata": {},
     "output_type": "execute_result"
    }
   ],
   "source": [
    "#age = today.year - birth.year - ((today.month, today.day) < (birth.month, birth.day))\n",
    "#calc_age(date(1990,1,1))   calc_age(date(1990,12,17)\n",
    "(12,15) < (1,1)  # False0"
   ]
  },
  {
   "cell_type": "code",
   "execution_count": 30,
   "id": "5202ba27",
   "metadata": {},
   "outputs": [
    {
     "data": {
      "text/plain": [
       "True"
      ]
     },
     "execution_count": 30,
     "metadata": {},
     "output_type": "execute_result"
    }
   ],
   "source": [
    "(12,15) < (12,17) # True 1"
   ]
  }
 ],
 "metadata": {
  "kernelspec": {
   "display_name": "Python 3 (ipykernel)",
   "language": "python",
   "name": "python3"
  },
  "language_info": {
   "codemirror_mode": {
    "name": "ipython",
    "version": 3
   },
   "file_extension": ".py",
   "mimetype": "text/x-python",
   "name": "python",
   "nbconvert_exporter": "python",
   "pygments_lexer": "ipython3",
   "version": "3.12.4"
  }
 },
 "nbformat": 4,
 "nbformat_minor": 5
}
